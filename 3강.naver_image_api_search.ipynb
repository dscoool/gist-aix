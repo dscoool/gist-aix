{
    "cells": [
        {
            "cell_type": "markdown",
            "source": [
                "3강 네이버 이미지 검색!!\r\n",
                "\r\n",
                "이번 시간에는 네이버 이미지 검색을 시행해보도록 할게요!!\r\n",
                "\r\n",
                "이미지를 업로드하여 TEXT로 결과를 리턴받아보도록 하겠습니다!!\r\n"
            ],
            "metadata": {}
        },
        {
            "cell_type": "markdown",
            "source": [
                "(*) 네이버 API 키 등록 -- 필요하신 분만 등록!!\r\n",
                "\r\n",
                "http://developers.naver.com 네이버 개발자 등록!!\r\n",
                "\r\n",
                "https://developers.naver.com/docs/search/image/\r\n",
                "\r\n",
                "(**) 필요없으신 분께는 강사가 API키를 제공해 드리니, 다음 칸으로 넘어가시면 되겠습니다!!"
            ],
            "metadata": {}
        },
        {
            "cell_type": "markdown",
            "source": [
                "2. 이번엔 인물이미지 검색을 이미지 --> TEXT 형태로 해 봅시다 \r\n",
                "(image.jpg 파일을 입력하여 결과치를 TEXT로 돌려받기!!))"
            ],
            "metadata": {}
        },
        {
            "cell_type": "markdown",
            "source": [
                "임의의 '이미지'파일을 다운받아서, 이 .ipynb 파일과 같은 경로에 저장해 줍니다.\r\n",
                "(저는 뉴스에서 사진을 다운받아서, 'byl.jpg로 저장했습니다!!)\r\n",
                "![byl.jpg](byl.jpg)\r\n"
            ],
            "metadata": {}
        },
        {
            "cell_type": "markdown",
            "source": [
                "다시 developer.naver.com에 접속해서, '애플리케이션' 항목에서\r\n",
                "'사용 API\" - 'Clova Face Recognitioon'을 추가해 줍니다!!\r\n"
            ],
            "metadata": {}
        },
        {
            "cell_type": "markdown",
            "source": [
                "![Clova Face Recognition](clova_face.png)\r\n"
            ],
            "metadata": {}
        },
        {
            "cell_type": "code",
            "execution_count": 1,
            "source": [
                "# client_id = \"2suaKA681EmF6KcE4r3R\" #발급받은 api key\r\n",
                "# client_secret = \"gGfxZYLM3s\""
            ],
            "outputs": [],
            "metadata": {}
        },
        {
            "cell_type": "markdown",
            "source": [
                "텍스트 --> 이미지 검색과 마찬가지로, \r\n",
                "client_id 및 client_secret을 입력해 줍니다."
            ],
            "metadata": {}
        },
        {
            "cell_type": "markdown",
            "source": [
                "아래 코드를 한 줄씩 실행해 볼까요? ^^"
            ],
            "metadata": {}
        },
        {
            "cell_type": "code",
            "execution_count": 1,
            "source": [
                "import os\r\n",
                "import sys\r\n",
                "import requests"
            ],
            "outputs": [],
            "metadata": {}
        },
        {
            "cell_type": "code",
            "execution_count": 2,
            "source": [
                "client_id = \"2suaKA681EmF6KcE4r3R\"\r\n",
                "client_secret = \"gGfxZYLM3s\""
            ],
            "outputs": [],
            "metadata": {}
        },
        {
            "cell_type": "markdown",
            "source": [
                "api가 접속할 url과 image 파일을 지정해 줍니다.\r\n",
                "아래 files = {'image': open('image.jpg')} ..부분에 여러분이 검색하고 싶은 인물의 사진을 지정해주세요!!\r\n",
                "저는 빌게이츠의 사진을 다운로드받아서, 'c:\\\\gist\\\\bill_gates.jpg'에 저장하고 아래 경로를 써 주었씁니다.\r\n",
                "주의: 파이썬에서는 경로를 지정할 때 항상 \\를 \\\\와 같이 두 개씩 써 줍니다."
            ],
            "metadata": {}
        },
        {
            "cell_type": "code",
            "execution_count": 3,
            "source": [
                "url = \"https://openapi.naver.com/v1/vision/celebrity\"\r\n",
                "files = {'image': open('.\\\\byl.jpg', 'rb')} #c:\\\\gist\\\\byl.jpg\r\n",
                "headers = {'X-Naver-Client-Id': client_id, 'X-Naver-Client-Secret': client_secret }"
            ],
            "outputs": [],
            "metadata": {}
        },
        {
            "cell_type": "markdown",
            "source": [
                "이제 네이버 OPEN API에 접속하여 검색을 실행합니다!!"
            ],
            "metadata": {}
        },
        {
            "cell_type": "code",
            "execution_count": 4,
            "source": [
                "response = requests.post(url,  files=files, headers=headers) #검색 -- byl.jpg 검색\r\n",
                "rescode = response.status_code #리턴"
            ],
            "outputs": [],
            "metadata": {}
        },
        {
            "cell_type": "markdown",
            "source": [
                " 에러가 났을 경우 'Error Code'를 출력하고,\r\n",
                " 성공적으로 API 호출을 하였을 경우, 결과를 출력합니다.\r\n",
                " 저는 'BILL GATES'가 '박근형'으로 인식이 되었네요!!\r\n",
                " 여러분은 어떤 결과를 얻으셨나요? :)"
            ],
            "metadata": {}
        },
        {
            "cell_type": "code",
            "execution_count": 5,
            "source": [
                "if(rescode==200):\r\n",
                "    print (response.text)\r\n",
                "else:\r\n",
                "    print(\"Error Code:\",rescode)"
            ],
            "outputs": [
                {
                    "output_type": "stream",
                    "name": "stdout",
                    "text": [
                        "{\"info\":{\"size\":{\"width\":290,\"height\":174},\"faceCount\":1},\"faces\":[{\"celebrity\":{\"value\":\"이부영\",\"confidence\":0.934865}}]}\n"
                    ]
                }
            ],
            "metadata": {}
        },
        {
            "cell_type": "markdown",
            "source": [],
            "metadata": {}
        }
    ],
    "metadata": {
        "orig_nbformat": 4,
        "language_info": {
            "name": "python",
            "version": "3.9.6",
            "mimetype": "text/x-python",
            "codemirror_mode": {
                "name": "ipython",
                "version": 3
            },
            "pygments_lexer": "ipython3",
            "nbconvert_exporter": "python",
            "file_extension": ".py"
        },
        "kernelspec": {
            "name": "python3",
            "display_name": "Python 3.9.6 64-bit"
        },
        "interpreter": {
            "hash": "63fd5069d213b44bf678585dea6b12cceca9941eaf7f819626cde1f2670de90d"
        }
    },
    "nbformat": 4,
    "nbformat_minor": 2
}