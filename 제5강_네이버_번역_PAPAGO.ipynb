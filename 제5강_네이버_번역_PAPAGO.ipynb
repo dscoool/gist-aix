{
    "cells": [
        {
            "cell_type": "markdown",
            "source": [
                "제4강 네이버 번역(파파고)\r\n",
                "\r\n",
                "이번 강의에서는, 네이버 번역 API를 이용하여 파파고(PAPAGO)를 호출해 보고,\r\n",
                "\r\n",
                "지정된 문장을 번역하여 보는 시간을 갖도록 하겠습니다!!\r\n",
                "\r\n",
                "아래 코드를 입력해 보세요!! :)"
            ],
            "metadata": {}
        },
        {
            "cell_type": "code",
            "execution_count": 10,
            "source": [
                "import os\r\n",
                "import sys\r\n",
                "import urllib.request"
            ],
            "outputs": [],
            "metadata": {}
        },
        {
            "cell_type": "code",
            "execution_count": 11,
            "source": [
                "client_id = \"AKNBpI3r381DOXUWDKMN\" # 개발자센터에서 발급받은 Client ID 값\r\n",
                "client_secret = \"zKoPzRsdRc\" # 개발자센터에서 발급받은 Client Secret 값\r\n"
            ],
            "outputs": [],
            "metadata": {}
        },
        {
            "cell_type": "code",
            "execution_count": 19,
            "source": [
                "encText = urllib.parse.quote(\"도전과 모험, 새로운 시작을 하는 사람은 누구나 추락을 경험할 수 있다.\")\r\n",
                "# 번역하고자 하는 문장을 입력해 봅시다!!"
            ],
            "outputs": [],
            "metadata": {}
        },
        {
            "cell_type": "code",
            "execution_count": 20,
            "source": [
                "data = \"source=ko&target=en&text=\" + encText\r\n",
                "url = \"https://openapi.naver.com/v1/papago/n2mt\""
            ],
            "outputs": [],
            "metadata": {}
        },
        {
            "cell_type": "code",
            "execution_count": 22,
            "source": [
                "request = urllib.request.Request(url)\r\n",
                "request.add_header(\"X-Naver-Client-Id\",client_id)\r\n",
                "request.add_header(\"X-Naver-Client-Secret\",client_secret)"
            ],
            "outputs": [],
            "metadata": {}
        },
        {
            "cell_type": "code",
            "execution_count": 24,
            "source": [
                "response = urllib.request.urlopen(request, data=data.encode(\"utf-8\"))\r\n",
                "rescode = response.getcode()"
            ],
            "outputs": [],
            "metadata": {}
        },
        {
            "cell_type": "code",
            "execution_count": 25,
            "source": [
                "if(rescode==200):\r\n",
                "    response_body = response.read()\r\n",
                "    print(response_body.decode('utf-8'))\r\n",
                "else:\r\n",
                "    print(\"Error Code:\" + rescode)"
            ],
            "outputs": [
                {
                    "output_type": "stream",
                    "name": "stdout",
                    "text": [
                        "{\"message\":{\"@type\":\"response\",\"@service\":\"naverservice.nmt.proxy\",\"@version\":\"1.0.0\",\"result\":{\"srcLangType\":\"ko\",\"tarLangType\":\"en\",\"translatedText\":\"Anyone who takes on challenges, adventures, or new beginnings can experience a fall.\",\"engineType\":\"N2MT\",\"pivot\":null}}}\n"
                    ]
                }
            ],
            "metadata": {}
        },
        {
            "cell_type": "code",
            "execution_count": 36,
            "source": [
                "import json\r\n",
                "sentence = json.loads(response_body)\r\n",
                "print(sentence)"
            ],
            "outputs": [
                {
                    "output_type": "stream",
                    "name": "stdout",
                    "text": [
                        "{'message': {'@type': 'response', '@service': 'naverservice.nmt.proxy', '@version': '1.0.0', 'result': {'srcLangType': 'ko', 'tarLangType': 'en', 'translatedText': 'Anyone who takes on challenges, adventures, or new beginnings can experience a fall.', 'engineType': 'N2MT', 'pivot': None}}}\n"
                    ]
                }
            ],
            "metadata": {}
        },
        {
            "cell_type": "code",
            "execution_count": 45,
            "source": [
                "print(sentence['message']['result'])"
            ],
            "outputs": [
                {
                    "output_type": "stream",
                    "name": "stdout",
                    "text": [
                        "{'srcLangType': 'ko', 'tarLangType': 'en', 'translatedText': 'Anyone who takes on challenges, adventures, or new beginnings can experience a fall.', 'engineType': 'N2MT', 'pivot': None}\n"
                    ]
                }
            ],
            "metadata": {}
        },
        {
            "cell_type": "code",
            "execution_count": 46,
            "source": [
                "print(sentence['message']['result']['translatedText'])"
            ],
            "outputs": [
                {
                    "output_type": "stream",
                    "name": "stdout",
                    "text": [
                        "Anyone who takes on challenges, adventures, or new beginnings can experience a fall.\n"
                    ]
                }
            ],
            "metadata": {}
        }
    ],
    "metadata": {
        "orig_nbformat": 4,
        "language_info": {
            "name": "python",
            "version": "3.9.6",
            "mimetype": "text/x-python",
            "codemirror_mode": {
                "name": "ipython",
                "version": 3
            },
            "pygments_lexer": "ipython3",
            "nbconvert_exporter": "python",
            "file_extension": ".py"
        },
        "kernelspec": {
            "name": "python3",
            "display_name": "Python 3.9.6 64-bit"
        },
        "interpreter": {
            "hash": "63fd5069d213b44bf678585dea6b12cceca9941eaf7f819626cde1f2670de90d"
        }
    },
    "nbformat": 4,
    "nbformat_minor": 2
}