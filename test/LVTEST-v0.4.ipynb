{
 "cells": [
  {
   "cell_type": "markdown",
   "source": [
    "## 중간 QUIZ (2021/08/19) - AIX 융합파이프라인 교육\r\n",
    "\r\n",
    "이 퀴즈는 이때까지 학습한 내용을 바탕으로, 수강생의 실력을 측정하기 위한 것입니다. OPEN BOOK 이므로 자료를 참고할 수 있지만, 어떠한 형태로의\r\n",
    "**수강생 간의 자료 및 의견 교환, 또는 수강생과 외부 인원과의 자료 및 의견 교환은 불가**하며, 부정행위에 해당합니다.\r\n",
    "\r\n",
    "QUIZ 는 성적에 반영되지 않지만, 부정행위 적발자는 <불이익>을 받습니다.\r\n",
    "\r\n"
   ],
   "metadata": {}
  },
  {
   "cell_type": "code",
   "execution_count": null,
   "source": [
    "\r\n",
    "\r\n",
    "## 서약: 본인 000는 이 오픈북 테스트에 대하여, 부정행위를 하지 \r\n",
    "## 않을 것을 서약하며, 적발시 어떠한 형태의 불이익을 감수할 것을 약속합니다.\r\n",
    "\r\n",
    "## 이름:\r\n",
    "## 서약서 작성\r\n",
    "##\r\n",
    "##"
   ],
   "outputs": [],
   "metadata": {}
  },
  {
   "cell_type": "markdown",
   "source": [
    "## 문 제 "
   ],
   "metadata": {}
  },
  {
   "cell_type": "markdown",
   "source": [
    "## 1. 아래 내용은 위키피디아 크롤링 예제입니다.\r\n",
    "## 실행되지 않는 코드에 대해 빈 칸을 채우고 완성하여, 실행하여 결과를 보이세요!! "
   ],
   "metadata": {}
  },
  {
   "cell_type": "code",
   "execution_count": null,
   "source": [
    "!pip install wikipedia-api"
   ],
   "outputs": [],
   "metadata": {}
  },
  {
   "cell_type": "code",
   "execution_count": null,
   "source": [
    "import wikipediaapi \r\n",
    "wiki=wikipediaapi.Wikipedia('ko')\r\n",
    "page_py = wiki.page('파이썬') \r\n",
    "print(\"Page - Exists: %s\" % page_py.exists())\r\n",
    "print(\"Page - Title: %s\" % page_py.title)\r\n",
    "print(\"Page - Summary: %s\" % page_py.summary[0:50])"
   ],
   "outputs": [],
   "metadata": {}
  },
  {
   "cell_type": "markdown",
   "source": [
    "## 문제1-(1).  위의 코드를 활용하여, '파이썬' 대신에 '한글'에 대한 위키피디아 \r\n",
    "## 서가 있는지 확인하고, 결과를 'True'또는 'False'로 리턴받으세요!! (2점)"
   ],
   "metadata": {}
  },
  {
   "cell_type": "code",
   "execution_count": null,
   "source": [
    "## 검색어 '한글'을 위키피디아에 검색하세요!!\r\n",
    "## 문서가 있는지 아래 코드를 통해 확인합니다!! (Return:True)\r\n",
    "\r\n",
    "page_py = wiki.***\r\n",
    "print(\"Page - Exists: %s\" % page_py.exists())"
   ],
   "outputs": [],
   "metadata": {}
  },
  {
   "cell_type": "markdown",
   "source": [
    "## 문제1-(2).  위의 코드를 활용하여, '한글' 검색 결과로 \r\n",
    "## 나온 '제목'을 출력하세요!! (3점)"
   ],
   "metadata": {}
  },
  {
   "cell_type": "code",
   "execution_count": null,
   "source": [
    "## 제목을 출력하세요!!\r\n",
    "print(\"Page - Title: %s\" % page_py.**)\r\n"
   ],
   "outputs": [],
   "metadata": {}
  },
  {
   "cell_type": "markdown",
   "source": [
    "## 문제1-(3).  위의 코드를 활용하여, '한글' 검색 결과로 \r\n",
    "## 나온 '요약'을 출력하세요!! (3점)\r\n",
    "## 요약 글자수는 220자입니다. (10점)"
   ],
   "metadata": {}
  },
  {
   "cell_type": "code",
   "execution_count": null,
   "source": [
    "## 요약(SUMMARY)을 출력하세요!! \r\n",
    "## 출력할 글자의 개수는 220개입니다.\r\n",
    "print(\"Page - Summary: %s\" % page_py.**)"
   ],
   "outputs": [],
   "metadata": {}
  },
  {
   "cell_type": "markdown",
   "source": [
    "## 문제 2. \r\n",
    "\r\n",
    "## 아래 파이썬 코드는 네이버 이미지 검색 API를 이용하여,\r\n",
    "\r\n",
    "## TEXT 검색어를 이미지로 반환(RETURN)받은 것입니다!!\r\n",
    "\r\n"
   ],
   "metadata": {}
  },
  {
   "cell_type": "code",
   "execution_count": null,
   "source": [
    "!pip install Pillow\r\n",
    "!pip install json\r\n",
    "!pip install urllib\r\n",
    "!pip install requests\r\n",
    "!pip install io \r\n",
    "!pip install os \r\n",
    "!pip install sys"
   ],
   "outputs": [],
   "metadata": {}
  },
  {
   "cell_type": "code",
   "execution_count": null,
   "source": [
    "import os\r\n",
    "import sys\r\n",
    "import urllib.request\r\n",
    "import json\r\n",
    "from PIL import Image\r\n",
    "from io import BytesIO\r\n",
    "import requests\r\n",
    "\r\n",
    "client_id = \"2suaKA681EmF6KcE4r3R\" \r\n",
    "client_secret = \"gGfxZYLM3s\"\r\n",
    "\r\n",
    "encText = urllib.parse.quote(\"사오정\") \r\n",
    "search_num=\"20\" \r\n",
    "url = \"https://openapi.naver.com/v1/search/image?query=\" + encText +\"&display=\"+ search_num # url을 조합하는 코드입니다. openapi.naver.com에 ? 와 &를 조합하여 원하는 검색어 및 출력결과수(20)을 만듭니다.\r\n",
    "\r\n",
    "request = urllib.request.Request(url)\r\n",
    "request.add_header(\"X-Naver-Client-Id\",client_id)\r\n",
    "request.add_header(\"X-Naver-Client-Secret\",client_secret)\r\n",
    "response = urllib.request.urlopen(request)\r\n",
    "rescode = response.getcode() #결과 반환 --> rescode에 저장\r\n",
    "\r\n",
    "if(rescode==200): #rescode=200이면, 즉 성공이면 결과 저장\r\n",
    "    response_body = response.read() \r\n",
    "    search_result = json.loads(response_body.decode('utf-8')) \r\n",
    " \r\n",
    "\r\n",
    "else:\r\n",
    "    print(\"Error Code:\" + rescode) #에러시 에러 코드를 출력합니다.\r\n",
    "\r\n",
    "search_result['items']"
   ],
   "outputs": [],
   "metadata": {}
  },
  {
   "cell_type": "code",
   "execution_count": null,
   "source": [
    "search_result['items'][9]"
   ],
   "outputs": [],
   "metadata": {}
  },
  {
   "cell_type": "markdown",
   "source": [
    "## 문제 2-(1) (10점)\r\n",
    "\r\n",
    "위 코드는 네이버 이미지 검색 API에 '사오정'을 입력하고, \r\n",
    "\r\n",
    "20개의 검색 결과를 리턴받은 것입니다. \r\n",
    "\r\n",
    "위 코드를 참조하여,  \r\n",
    "\r\n",
    "20번째 (맨 마지막, 검색결과는 0번부터 시작합니다!!) 검색 결과의\r\n",
    "\r\n",
    "제목을 출력하세요. 20번째 검색 결과는 끝에서 첫번째 검색 결과와 동일합니다!!"
   ],
   "metadata": {}
  },
  {
   "cell_type": "code",
   "execution_count": null,
   "source": [
    "search_result['items'][**]"
   ],
   "outputs": [],
   "metadata": {}
  },
  {
   "cell_type": "markdown",
   "source": [
    "## 문제 2-(2) 위 20번째 검색 결과의 'thumbnail'의 url을 아래 출력하세요!! (10점)"
   ],
   "metadata": {}
  },
  {
   "cell_type": "code",
   "execution_count": null,
   "source": [
    "search_result['items'][**]['t**']"
   ],
   "outputs": [],
   "metadata": {}
  },
  {
   "cell_type": "markdown",
   "source": [
    "## 수고하셨습니다!!\r\n",
    "## .ipynb 파일을 바탕화면에 저장 후 퇴실하세요!!\r\n",
    "\r\n",
    "## 수강생 확인을 위해, 아래 본인의 이름을 한 번 더 기재해 주세요!!"
   ],
   "metadata": {}
  },
  {
   "cell_type": "code",
   "execution_count": null,
   "source": [
    "## 수강생 확인을 위해, 아래 본인의 이름을 한번 더 기재해주세요!!\r\n",
    "## 이름: "
   ],
   "outputs": [],
   "metadata": {}
  }
 ],
 "metadata": {
  "orig_nbformat": 4,
  "language_info": {
   "name": "python",
   "version": "3.9.6",
   "mimetype": "text/x-python",
   "codemirror_mode": {
    "name": "ipython",
    "version": 3
   },
   "pygments_lexer": "ipython3",
   "nbconvert_exporter": "python",
   "file_extension": ".py"
  },
  "kernelspec": {
   "name": "python3",
   "display_name": "Python 3.9.6 64-bit"
  },
  "interpreter": {
   "hash": "63fd5069d213b44bf678585dea6b12cceca9941eaf7f819626cde1f2670de90d"
  }
 },
 "nbformat": 4,
 "nbformat_minor": 2
}