{
    "cells": [
        {
            "cell_type": "markdown",
            "source": [
                "## 교차검증 \r\n",
                "## Cross Validation\r\n",
                "\r\n",
                "아래 그림처럼 Fold는 파란색 네모를 의미한다. 즉 만약 Fold 개수(K값)를 5로 설정한다면 위 그림 처럼 5번의 모델링 검증을 시행할 것이다. 하지만 1번 검증을 시행할 때마다 검증용 데이터가 각각 파란색으로 매번 달라진다. 그리고 모든 교차검증이 종료되고 즉, 5번의 검증이 종료된 후 각 검증마다 도출된 정확도들의 **평균값**으로 최종적인 정확도를 계산하게 된다.\r\n",
                "\r\n",
                "\r\n",
                "\r\n",
                "\r\n",
                "![K-Fold Cross Validation](https://raw.githubusercontent.com/dscoool/gist-aix/main/kfold_2.png)"
            ],
            "metadata": {}
        },
        {
            "cell_type": "code",
            "execution_count": 1,
            "source": [
                "import pandas as pd\r\n",
                "import numpy as np\r\n",
                "from sklearn.model_selection import KFold\r\n",
                "from sklearn.datasets import load_iris\r\n",
                "from sklearn.tree import DecisionTreeClassifier\r\n",
                "from sklearn.metrics import accuracy_score"
            ],
            "outputs": [],
            "metadata": {}
        },
        {
            "cell_type": "code",
            "execution_count": 2,
            "source": [
                "iris = load_iris()\r\n",
                "kf = KFold(n_splits=5)\r\n",
                "all_acc = []\r\n",
                "fold_idx = 0"
            ],
            "outputs": [],
            "metadata": {}
        },
        {
            "cell_type": "code",
            "execution_count": 3,
            "source": [
                "features = iris.data\r\n",
                "labels = iris.target"
            ],
            "outputs": [],
            "metadata": {}
        },
        {
            "cell_type": "code",
            "execution_count": 4,
            "source": [
                "for train_idx, test_idx in kf.split(features):\r\n",
                "    \r\n",
                "    train_x, train_y = features[train_idx], labels[train_idx]\r\n",
                "    test_x, test_y = features[test_idx], labels[test_idx]\r\n",
                "    \r\n",
                "    model = DecisionTreeClassifier()\r\n",
                "    model.fit(train_x, train_y)\r\n",
                "    pred_y = model.predict(test_x)\r\n",
                "    acc = accuracy_score(test_y, pred_y)\r\n",
                "    \r\n",
                "    fold_idx += 1\r\n",
                "    \r\n",
                "    all_acc.append(acc)\r\n"
            ],
            "outputs": [],
            "metadata": {}
        },
        {
            "cell_type": "code",
            "execution_count": 4,
            "source": [
                "print(f\"KFold 모두 수행 후 평균 예측도 : {np.mean(all_acc)}\")"
            ],
            "outputs": [
                {
                    "output_type": "stream",
                    "name": "stdout",
                    "text": [
                        "KFold 모두 수행 후 평균 예측도 : 0.9066666666666666\n"
                    ]
                }
            ],
            "metadata": {}
        },
        {
            "cell_type": "markdown",
            "source": [
                "계층별 K-겹 교차 검증"
            ],
            "metadata": {}
        },
        {
            "cell_type": "code",
            "execution_count": 13,
            "source": [
                "import matplotlib.pyplot as plt\r\n",
                "import matplotlib\r\n",
                "from sklearn.datasets import load_iris\r\n",
                "from sklearn.linear_model import LogisticRegression\r\n",
                "from sklearn.model_selection import cross_val_score\r\n",
                "import numpy as np\r\n"
            ],
            "outputs": [],
            "metadata": {}
        },
        {
            "cell_type": "code",
            "execution_count": 14,
            "source": [
                "iris = load_iris()"
            ],
            "outputs": [],
            "metadata": {}
        },
        {
            "cell_type": "code",
            "execution_count": 15,
            "source": [
                "print('iris label \\n{}'.format(iris.target))\r\n",
                "print('''iris label's bin \\n{}'''.format(np.bincount(iris.target)))"
            ],
            "outputs": [
                {
                    "output_type": "stream",
                    "name": "stdout",
                    "text": [
                        "iris label \n",
                        "[0 0 0 0 0 0 0 0 0 0 0 0 0 0 0 0 0 0 0 0 0 0 0 0 0 0 0 0 0 0 0 0 0 0 0 0 0\n",
                        " 0 0 0 0 0 0 0 0 0 0 0 0 0 1 1 1 1 1 1 1 1 1 1 1 1 1 1 1 1 1 1 1 1 1 1 1 1\n",
                        " 1 1 1 1 1 1 1 1 1 1 1 1 1 1 1 1 1 1 1 1 1 1 1 1 1 1 2 2 2 2 2 2 2 2 2 2 2\n",
                        " 2 2 2 2 2 2 2 2 2 2 2 2 2 2 2 2 2 2 2 2 2 2 2 2 2 2 2 2 2 2 2 2 2 2 2 2 2\n",
                        " 2 2]\n",
                        "iris label's bin \n",
                        "[50 50 50]\n"
                    ]
                }
            ],
            "metadata": {}
        },
        {
            "cell_type": "markdown",
            "source": [
                "STRATIFIED CROSS VALIDATION\r\n",
                "계층별 k-겹 교차 검증\r\n",
                "\r\n",
                "Stratified KFold CV : 불균형한 분포도를 가진 레이블에 쓰임. 분류분석\r\n",
                "\r\n",
                " \r\n",
                "\r\n",
                "Stratified Kfold 는 Kfold가 레이블 데이터가 제대로 분배되지 못하는 경우의 문제를 해결해 준다. \r\n",
                "원본 데이터의 레이블 분포를 먼저 고려한뒤 이 분포와 동일하게 학습과 검증 데이터 세트를 분배하는 방식\r\n",
                "레이블 분포에 따라 학습/테스트 세트를 나눔\r\n",
                " "
            ],
            "metadata": {}
        },
        {
            "cell_type": "code",
            "execution_count": 4,
            "source": [
                "!pip install mglearn"
            ],
            "outputs": [
                {
                    "output_type": "stream",
                    "name": "stdout",
                    "text": [
                        "Collecting mglearn\n",
                        "  Downloading mglearn-0.1.9.tar.gz (540 kB)\n",
                        "Requirement already satisfied: numpy in c:\\python39-at\\lib\\site-packages (from mglearn) (1.21.1)\n",
                        "Requirement already satisfied: matplotlib in c:\\python39-at\\lib\\site-packages (from mglearn) (3.4.2)\n",
                        "Requirement already satisfied: scikit-learn in c:\\python39-at\\lib\\site-packages (from mglearn) (0.24.2)\n",
                        "Requirement already satisfied: pandas in c:\\python39-at\\lib\\site-packages (from mglearn) (1.3.1)\n",
                        "Requirement already satisfied: pillow in c:\\python39-at\\lib\\site-packages (from mglearn) (8.3.1)\n",
                        "Requirement already satisfied: cycler in c:\\python39-at\\lib\\site-packages (from mglearn) (0.10.0)\n",
                        "Collecting imageio\n",
                        "  Downloading imageio-2.9.0-py3-none-any.whl (3.3 MB)\n",
                        "Requirement already satisfied: joblib in c:\\python39-at\\lib\\site-packages (from mglearn) (1.0.1)\n",
                        "Requirement already satisfied: six in c:\\users\\jaemi\\appdata\\roaming\\python\\python39\\site-packages (from cycler->mglearn) (1.16.0)\n",
                        "Requirement already satisfied: pyparsing>=2.2.1 in c:\\python39-at\\lib\\site-packages (from matplotlib->mglearn) (2.4.7)\n",
                        "Requirement already satisfied: python-dateutil>=2.7 in c:\\users\\jaemi\\appdata\\roaming\\python\\python39\\site-packages (from matplotlib->mglearn) (2.8.2)\n",
                        "Requirement already satisfied: kiwisolver>=1.0.1 in c:\\python39-at\\lib\\site-packages (from matplotlib->mglearn) (1.3.1)\n",
                        "Requirement already satisfied: pytz>=2017.3 in c:\\python39-at\\lib\\site-packages (from pandas->mglearn) (2021.1)\n",
                        "Requirement already satisfied: threadpoolctl>=2.0.0 in c:\\python39-at\\lib\\site-packages (from scikit-learn->mglearn) (2.2.0)\n",
                        "Requirement already satisfied: scipy>=0.19.1 in c:\\python39-at\\lib\\site-packages (from scikit-learn->mglearn) (1.7.1)\n"
                    ]
                },
                {
                    "output_type": "stream",
                    "name": "stderr",
                    "text": [
                        "WARNING: You are using pip version 21.1.3; however, version 21.2.3 is available.\n",
                        "You should consider upgrading via the 'c:\\python39-at\\python.exe -m pip install --upgrade pip' command.\n"
                    ]
                },
                {
                    "output_type": "stream",
                    "name": "stdout",
                    "text": [
                        "Building wheels for collected packages: mglearn\n",
                        "  Building wheel for mglearn (setup.py): started\n",
                        "  Building wheel for mglearn (setup.py): finished with status 'done'\n",
                        "  Created wheel for mglearn: filename=mglearn-0.1.9-py2.py3-none-any.whl size=582638 sha256=8969383cfee8f4a09dc61f6b6268374a7c1349bfb8f6d2609b8d073c4af206f0\n",
                        "  Stored in directory: c:\\users\\jaemi\\appdata\\local\\pip\\cache\\wheels\\df\\30\\8a\\1e2c8f144c9d411b0688f628d496d2db8f61b6d14bcedaa1df\n",
                        "Successfully built mglearn\n",
                        "Installing collected packages: imageio, mglearn\n",
                        "Successfully installed imageio-2.9.0 mglearn-0.1.9\n"
                    ]
                }
            ],
            "metadata": {}
        },
        {
            "cell_type": "code",
            "execution_count": 2,
            "source": [
                " import mglearn\r\n",
                "\r\n",
                "\r\n",
                "\r\n",
                "# matplotlob 설정\r\n",
                "\r\n",
                "matplotlib.rc('font', family='AppleGothic') # 한글출력\r\n",
                "\r\n",
                "plt.rcParams['axes.unicode_minus']=False # 축 -\r\n",
                "\r\n",
                "\r\n",
                "\r\n",
                "mglearn.plots.plot_stratified_cross_validation()\r\n",
                "\r\n",
                "plt.show()"
            ],
            "outputs": [
                {
                    "output_type": "error",
                    "ename": "NameError",
                    "evalue": "name 'matplotlib' is not defined",
                    "traceback": [
                        "\u001b[1;31m---------------------------------------------------------------------------\u001b[0m",
                        "\u001b[1;31mNameError\u001b[0m                                 Traceback (most recent call last)",
                        "\u001b[1;32m~\\AppData\\Local\\Temp/ipykernel_28044/1669411835.py\u001b[0m in \u001b[0;36m<module>\u001b[1;34m\u001b[0m\n\u001b[0;32m      5\u001b[0m \u001b[1;31m# matplotlob 설정\u001b[0m\u001b[1;33m\u001b[0m\u001b[1;33m\u001b[0m\u001b[1;33m\u001b[0m\u001b[0m\n\u001b[0;32m      6\u001b[0m \u001b[1;33m\u001b[0m\u001b[0m\n\u001b[1;32m----> 7\u001b[1;33m \u001b[0mmatplotlib\u001b[0m\u001b[1;33m.\u001b[0m\u001b[0mrc\u001b[0m\u001b[1;33m(\u001b[0m\u001b[1;34m'font'\u001b[0m\u001b[1;33m,\u001b[0m \u001b[0mfamily\u001b[0m\u001b[1;33m=\u001b[0m\u001b[1;34m'AppleGothic'\u001b[0m\u001b[1;33m)\u001b[0m \u001b[1;31m# 한글출력\u001b[0m\u001b[1;33m\u001b[0m\u001b[1;33m\u001b[0m\u001b[0m\n\u001b[0m\u001b[0;32m      8\u001b[0m \u001b[1;33m\u001b[0m\u001b[0m\n\u001b[0;32m      9\u001b[0m \u001b[0mplt\u001b[0m\u001b[1;33m.\u001b[0m\u001b[0mrcParams\u001b[0m\u001b[1;33m[\u001b[0m\u001b[1;34m'axes.unicode_minus'\u001b[0m\u001b[1;33m]\u001b[0m\u001b[1;33m=\u001b[0m\u001b[1;32mFalse\u001b[0m \u001b[1;31m# 축 -\u001b[0m\u001b[1;33m\u001b[0m\u001b[1;33m\u001b[0m\u001b[0m\n",
                        "\u001b[1;31mNameError\u001b[0m: name 'matplotlib' is not defined"
                    ]
                }
            ],
            "metadata": {}
        },
        {
            "cell_type": "markdown",
            "source": [
                "Reference: https://woolulu.tistory.com/70"
            ],
            "metadata": {}
        }
    ],
    "metadata": {
        "orig_nbformat": 4,
        "language_info": {
            "name": "python",
            "version": "3.9.6",
            "mimetype": "text/x-python",
            "codemirror_mode": {
                "name": "ipython",
                "version": 3
            },
            "pygments_lexer": "ipython3",
            "nbconvert_exporter": "python",
            "file_extension": ".py"
        },
        "kernelspec": {
            "name": "python3",
            "display_name": "Python 3.9.6 64-bit"
        },
        "interpreter": {
            "hash": "63fd5069d213b44bf678585dea6b12cceca9941eaf7f819626cde1f2670de90d"
        }
    },
    "nbformat": 4,
    "nbformat_minor": 2
}